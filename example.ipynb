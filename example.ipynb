{
 "cells": [
  {
   "cell_type": "code",
   "execution_count": 1,
   "metadata": {},
   "outputs": [
    {
     "name": "stdout",
     "output_type": "stream",
     "text": [
      "WARNING: imaging routines will not be available, \n",
      "failed to import sherpa.image.ds9_backend due to \n",
      "'RuntimeErr: DS9Win unusable: Could not find ds9 on your PATH'\n"
     ]
    }
   ],
   "source": [
    "import numpy as np\n",
    "\n",
    "import matplotlib\n",
    "import matplotlib.pyplot as plt\n",
    "\n",
    "import astropy\n",
    "import astropy.table as atpy\n",
    "from astropy import cosmology\n",
    "from astropy.cosmology import FlatLambdaCDM\n",
    "import astropy.units as u\n",
    "from astropy.table import Column\n",
    "\n",
    "import sherpa\n",
    "import sherpa.ui as ui\n",
    "\n",
    "import scipy\n",
    "import scipy.integrate\n",
    "import scipy.optimize as op\n",
    "\n",
    "\n",
    "import time\n",
    "\n",
    "import emcee\n",
    "import corner\n",
    "\n",
    "\n",
    "#add in all needed modules for things here..."
   ]
  },
  {
   "cell_type": "code",
   "execution_count": 2,
   "metadata": {},
   "outputs": [],
   "source": [
    "import sys\n",
    "sys.tracebacklimit = 100"
   ]
  },
  {
   "cell_type": "code",
   "execution_count": 3,
   "metadata": {},
   "outputs": [],
   "source": [
    "#default parameters and unit conversion factors\n",
    "import defaultparams.params as params\n",
    "import defaultparams.uconv as uconv\n",
    "\n",
    "#functions to read data into format used by module\n",
    "from massmod.set_prof_data import set_ne, set_tspec, set_meta\n",
    "\n",
    "#function to fit the gas density profile\n",
    "from massmod.fit_density import fitne, find_nemodeltype\n",
    "\n",
    "#function to determine mass profile through backwards modelling\n",
    "from massmod.fit_temperature import fit_ml, fit_mcmc\n",
    "\n",
    "#analyze the marginalized posterior distribution\n",
    "from massmod.posterior_mcmc import calc_posterior_mcmc, samples_results\n",
    "\n",
    "#plotting functions\n",
    "from massmod.plotting import plt_mcmc_freeparam, plt_summary, plt_summary_nice\n",
    "\n",
    "#functions specifically to generate mock data from Vikhlinin+ profiles\n",
    "from exampledata.vikh_prof import vikh_tprof, vikh_neprof, gen_vik_data"
   ]
  },
  {
   "cell_type": "markdown",
   "metadata": {},
   "source": [
    "# Goal:\n",
    "The primary goal of this example script is to showcase the tools available in the massmod package using mock data. The mock data is produced by randomly sampling the density and temperature profiles models published in Vikhlinin+06 for a sample of clusters. A secondary goal of this example is thus to also explore how the backwards mass modeling process used in the massmod package compares to the forward fitting results of Vikhlinin+06. The mock profiles allow for a flexible choice in noise and radial sampling rate, which allows for exploration of how these quantities affect the output of the backwards-fitting process. There is also some flexibility built into the massmod package that can be additionally tested here such as allowing for the stellar mass of the central galaxy to be included (or not included) in the model of total gravitating mass. If the stellar mass profile of the BCG is toggled on, the values for the BCG effective radius Re are pulled from the 2MASS catalog values for a de Vaucouleurs fit to their K-band data.\n",
    "    \n",
    "After generating the mock temperature and density profiles, the below code walks the user through fitting a model to the gas density profile, and performing the backwards-fitting mass modelling analysis. The output includes a non-parametric model fit to the temperature profile, the total mass profile and its associated parameters describing the profile, and the contributions of different mass components (i.e., DM, stars, gas) to the total mass profile."
   ]
  },
  {
   "cell_type": "markdown",
   "metadata": {},
   "source": [
    "  # A note on usage:\n",
    "Any of the clusters in Vikhlinin+06 are options to be used to generate randomly sampled temperature and density profiles. The full list of clusters is as follows:\n",
    "    \n",
    "vikhlinin_clusters=[A133,\n",
    "                    A262,\n",
    "                    A383,\n",
    "                    A478,\n",
    "                    A907,\n",
    "                    A1413,\n",
    "                    A1795,\n",
    "                    A1991,\n",
    "                    A2029,\n",
    "                    A2390,\n",
    "                    RXJ1159+5531,\n",
    "                    MKW4,\n",
    "                    USGCS152]  \n",
    "After selecting one of these clusters, this example script will automatically generate the cluster and profile data in the proper format to be used by the module. If you have your own data you would like to analyze with the massmod package, please see the included template.py file for instructions.\n",
    "    "
   ]
  },
  {
   "cell_type": "code",
   "execution_count": 18,
   "metadata": {},
   "outputs": [
    {
     "name": "stdout",
     "output_type": "stream",
     "text": [
      "\n"
     ]
    }
   ],
   "source": [
    "#select any cluster ID from the Vikhlinin+ paper\n",
    "clusterID='A133'"
   ]
  },
  {
   "cell_type": "markdown",
   "metadata": {},
   "source": [
    "# 1. Generate mock gas density and temperature profiles \n",
    "- according to the modeles in Vikhlinin+06. Some pertinent details are included below, more details are included in the docstrings of the functions.\n",
    "\n",
    "Args:  \n",
    "N_ne: the number of gas density profile data points  \n",
    "N_temp: the number of temperature profile  \n",
    "noise_ne: the percent noise on the density values  \n",
    "noise_temp: the percent noise on the temperature values  \n",
    "incl_mstar: include stellar mass of the central galaxy in the model for total gravitating mass  \n",
    "incl_mgas: include gas mass of ICM in the model for total gravitating mass  \n",
    "    \n",
    "Returns:  \n",
    "clustermeta: dictionary that stores relevant properties of cluster (e.g. redshift) as well as selections for analysis \n",
    "                 (e.g., incl_mstar, incl_mgas)  \n",
    "ne_data: dictionary that stores the mock \"observed\" gas density profile  \n",
    "tspec_data: dictionary that store the mock \"observed\" temperature profile  \n",
    "nemodel_vikh: parameters of Vikhlinin+06 density model  \n",
    "tmodel_vikh: parameters of Vikhlinin+06 temperature model  "
   ]
  },
  {
   "cell_type": "code",
   "execution_count": 19,
   "metadata": {},
   "outputs": [],
   "source": [
    "clustermeta, ne_data, tspec_data, nemodel_vikh, tmodel_vikh= gen_vik_data(clusterID=clusterID, \n",
    "                         N_ne=50,  \n",
    "                         N_temp=10,  \n",
    "                         noise_ne=0.01, \n",
    "                         noise_temp=0.05,  \n",
    "                         incl_mstar=1, \n",
    "                         incl_mgas=1) \n"
   ]
  },
  {
   "cell_type": "code",
   "execution_count": 20,
   "metadata": {},
   "outputs": [
    {
     "data": {
      "text/plain": [
       "{'bcg_re': 14.22,\n",
       " 'bcg_sersic_n': 4.0,\n",
       " 'incl_mgas': 1,\n",
       " 'incl_mstar': 1,\n",
       " 'name': 'A133',\n",
       " 'refindex': -1,\n",
       " 'z': 0.0569}"
      ]
     },
     "execution_count": 20,
     "metadata": {},
     "output_type": "execute_result"
    }
   ],
   "source": [
    "clustermeta"
   ]
  },
  {
   "cell_type": "code",
   "execution_count": 21,
   "metadata": {},
   "outputs": [
    {
     "data": {
      "text/html": [
       "&lt;Table length=5&gt;\n",
       "<table id=\"table103527833488\" class=\"table-striped table-bordered table-condensed\">\n",
       "<thead><tr><th>radius</th><th>ne</th><th>ne_err</th><th>radius_lowerbound</th><th>radius_upperbound</th></tr></thead>\n",
       "<thead><tr><th>float64</th><th>float64</th><th>float64</th><th>float64</th><th>float64</th></tr></thead>\n",
       "<tr><td>39.99999999999999</td><td>0.009862023559997046</td><td>9.859983611884328e-05</td><td>0.0</td><td>0.0</td></tr>\n",
       "<tr><td>42.521798377975664</td><td>0.008994138241878294</td><td>8.980562182159412e-05</td><td>0.0</td><td>0.0</td></tr>\n",
       "<tr><td>45.20258343243033</td><td>0.0082622043245105</td><td>8.176621565589442e-05</td><td>0.0</td><td>0.0</td></tr>\n",
       "<tr><td>48.052378471935654</td><td>0.0074876358828186535</td><td>7.455489187007704e-05</td><td>0.0</td><td>0.0</td></tr>\n",
       "<tr><td>51.08183872414564</td><td>0.006759878888340406</td><td>6.81986379540131e-05</td><td>0.0</td><td>0.0</td></tr>\n",
       "</table>"
      ],
      "text/plain": [
       "<Table length=5>\n",
       "      radius                 ne          ... radius_lowerbound radius_upperbound\n",
       "     float64              float64        ...      float64           float64     \n",
       "------------------ --------------------- ... ----------------- -----------------\n",
       " 39.99999999999999  0.009862023559997046 ...               0.0               0.0\n",
       "42.521798377975664  0.008994138241878294 ...               0.0               0.0\n",
       " 45.20258343243033    0.0082622043245105 ...               0.0               0.0\n",
       "48.052378471935654 0.0074876358828186535 ...               0.0               0.0\n",
       " 51.08183872414564  0.006759878888340406 ...               0.0               0.0"
      ]
     },
     "execution_count": 21,
     "metadata": {},
     "output_type": "execute_result"
    }
   ],
   "source": [
    "ne_data[:5]"
   ]
  },
  {
   "cell_type": "code",
   "execution_count": 12,
   "metadata": {},
   "outputs": [
    {
     "data": {
      "text/html": [
       "&lt;Table length=10&gt;\n",
       "<table id=\"table4574053648\" class=\"table-striped table-bordered table-condensed\">\n",
       "<thead><tr><th>radius</th><th>tspec</th><th>tspec_err</th><th>tspec_lowerbound</th><th>tspec_upperbound</th><th>radius_lowerbound</th><th>radius_upperbound</th></tr></thead>\n",
       "<thead><tr><th>float64</th><th>float64</th><th>float64</th><th>float64</th><th>float64</th><th>float64</th><th>float64</th></tr></thead>\n",
       "<tr><td>10.0</td><td>1.336412760425945</td><td>0.0734738494052246</td><td>0.0734738494052246</td><td>0.0734738494052246</td><td>0.0</td><td>0.0</td></tr>\n",
       "<tr><td>16.272506099369238</td><td>1.6589432911346005</td><td>0.08541287493043</td><td>0.08541287493043</td><td>0.08541287493043</td><td>0.0</td><td>0.0</td></tr>\n",
       "<tr><td>26.479445475400922</td><td>2.2022403308981073</td><td>0.10874812968749435</td><td>0.10874812968749435</td><td>0.10874812968749435</td><td>0.0</td><td>0.0</td></tr>\n",
       "<tr><td>43.08869380063769</td><td>2.363019174770201</td><td>0.11547502375098014</td><td>0.11547502375098014</td><td>0.11547502375098014</td><td>0.0</td><td>0.0</td></tr>\n",
       "<tr><td>70.11610326847304</td><td>2.3303035940840213</td><td>0.11711832895754833</td><td>0.11711832895754833</td><td>0.11711832895754833</td><td>0.0</td><td>0.0</td></tr>\n",
       "<tr><td>114.0964718100231</td><td>2.231704514808246</td><td>0.11821853298428309</td><td>0.11821853298428309</td><td>0.11821853298428309</td><td>0.0</td><td>0.0</td></tr>\n",
       "<tr><td>185.66355334451134</td><td>2.2303619872883536</td><td>0.11839851728314375</td><td>0.11839851728314375</td><td>0.11839851728314375</td><td>0.0</td><td>0.0</td></tr>\n",
       "<tr><td>302.1211304229127</td><td>2.0954294722433797</td><td>0.11068739891884455</td><td>0.11068739891884455</td><td>0.11068739891884455</td><td>0.0</td><td>0.0</td></tr>\n",
       "<tr><td>491.6267937555176</td><td>1.7385516105447176</td><td>0.08079149403924629</td><td>0.08079149403924629</td><td>0.08079149403924629</td><td>0.0</td><td>0.0</td></tr>\n",
       "<tr><td>800.0000000000003</td><td>0.9849748367924417</td><td>0.04937673679698029</td><td>0.04937673679698029</td><td>0.04937673679698029</td><td>0.0</td><td>0.0</td></tr>\n",
       "</table>"
      ],
      "text/plain": [
       "<Table length=10>\n",
       "      radius             tspec        ... radius_lowerbound radius_upperbound\n",
       "     float64            float64       ...      float64           float64     \n",
       "------------------ ------------------ ... ----------------- -----------------\n",
       "              10.0  1.336412760425945 ...               0.0               0.0\n",
       "16.272506099369238 1.6589432911346005 ...               0.0               0.0\n",
       "26.479445475400922 2.2022403308981073 ...               0.0               0.0\n",
       " 43.08869380063769  2.363019174770201 ...               0.0               0.0\n",
       " 70.11610326847304 2.3303035940840213 ...               0.0               0.0\n",
       " 114.0964718100231  2.231704514808246 ...               0.0               0.0\n",
       "185.66355334451134 2.2303619872883536 ...               0.0               0.0\n",
       " 302.1211304229127 2.0954294722433797 ...               0.0               0.0\n",
       " 491.6267937555176 1.7385516105447176 ...               0.0               0.0\n",
       " 800.0000000000003 0.9849748367924417 ...               0.0               0.0"
      ]
     },
     "execution_count": 12,
     "metadata": {},
     "output_type": "execute_result"
    }
   ],
   "source": [
    "tspec_data"
   ]
  },
  {
   "cell_type": "markdown",
   "metadata": {},
   "source": [
    "# 2. Fit the gas density profile with a parametric model"
   ]
  },
  {
   "cell_type": "markdown",
   "metadata": {},
   "source": [
    "Determine the best fitting model to the density profile. Output will be one of the following: 'single_beta', 'cusped_beta', 'double_beta', 'double_beta_tied'"
   ]
  },
  {
   "cell_type": "code",
   "execution_count": 22,
   "metadata": {},
   "outputs": [
    {
     "name": "stdout",
     "output_type": "stream",
     "text": [
      "WARNING: Clearing convolved model\n",
      "'usermodel.doublebeta1d'\n",
      "for dataset 1\n",
      "Dataset               = 1\n",
      "Method                = levmar\n",
      "Statistic             = chi2\n",
      "Initial fit statistic = 374271\n",
      "Final fit statistic   = 2257.78 at function evaluation 38\n",
      "Data points           = 50\n",
      "Degrees of freedom    = 47\n",
      "Probability [Q-value] = 0\n",
      "Reduced statistic     = 48.0379\n",
      "Change in statistic   = 372013\n",
      "   beta1d.ne0     0.011562    \n",
      "   beta1d.rc      50.8241     \n",
      "   beta1d.beta    0.514704    \n",
      "beta1d.rc lower bound:\t-0.608512\n",
      "beta1d.beta lower bound:\t-0.00131403\n",
      "beta1d.rc upper bound:\t0.608512\n",
      "beta1d.ne0 lower bound:\t-0.000125865\n",
      "beta1d.beta upper bound:\t0.00131403\n",
      "beta1d.ne0 upper bound:\t0.000129861\n",
      "Dataset               = 1\n",
      "Confidence Method     = confidence\n",
      "Iterative Fit Method  = None\n",
      "Fitting Method        = levmar\n",
      "Statistic             = chi2gehrels\n",
      "confidence 1-sigma (68.2689%) bounds:\n",
      "   Param            Best-Fit  Lower Bound  Upper Bound\n",
      "   -----            --------  -----------  -----------\n",
      "   beta1d.ne0       0.011562 -0.000125865  0.000129861\n",
      "   beta1d.rc         50.8241    -0.608512     0.608512\n",
      "   beta1d.beta      0.514704  -0.00131403   0.00131403\n",
      "WARNING: Clearing convolved model\n",
      "'usermodel.beta1d'\n",
      "for dataset 1\n",
      "Dataset               = 1\n",
      "Method                = levmar\n",
      "Statistic             = chi2\n",
      "Initial fit statistic = 497715\n",
      "Final fit statistic   = 5911.51 at function evaluation 231\n",
      "Data points           = 50\n",
      "Degrees of freedom    = 46\n",
      "Probability [Q-value] = 0\n",
      "Reduced statistic     = 128.511\n",
      "Change in statistic   = 491804\n",
      "   cuspedbeta1d.ne0   0.0891163   \n",
      "   cuspedbeta1d.rc   8.81028     \n",
      "   cuspedbeta1d.beta   0.459559    \n",
      "   cuspedbeta1d.alpha   0.102007    \n",
      "cuspedbeta1d.alpha lower bound:\t-----\n",
      "cuspedbeta1d.rc lower bound:\t-1.14615\n",
      "cuspedbeta1d.beta -: WARNING: The confidence level lies within (4.475077e-01, 4.500078e-01)\n",
      "cuspedbeta1d.beta lower bound:\t-0.0108013\n",
      "cuspedbeta1d.ne0 -: WARNING: The confidence level lies within (1.462856e-04, 1.853481e-04)\n",
      "cuspedbeta1d.ne0 lower bound:\t-0.0889505\n",
      "cuspedbeta1d.rc +: WARNING: The confidence level lies within (9.267825e+00, 9.272796e+00)\n",
      "cuspedbeta1d.rc upper bound:\t0.460035\n",
      "cuspedbeta1d.alpha +: WARNING: The confidence level lies within (1.352722e+00, 1.355222e+00)\n",
      "cuspedbeta1d.alpha upper bound:\t1.25196\n",
      "cuspedbeta1d.beta +: WARNING: The confidence level lies within (4.602910e-01, 4.602906e-01)\n",
      "cuspedbeta1d.beta upper bound:\t0.000731775\n",
      "cuspedbeta1d.ne0 +: WARNING: The confidence level lies within (1.201598e-01, 1.201549e-01)\n",
      "cuspedbeta1d.ne0 upper bound:\t0.031041\n",
      "Dataset               = 1\n",
      "Confidence Method     = confidence\n",
      "Iterative Fit Method  = None\n",
      "Fitting Method        = levmar\n",
      "Statistic             = chi2gehrels\n",
      "confidence 1-sigma (68.2689%) bounds:\n",
      "   Param            Best-Fit  Lower Bound  Upper Bound\n",
      "   -----            --------  -----------  -----------\n",
      "   cuspedbeta1d.ne0    0.0891163   -0.0889505     0.031041\n",
      "   cuspedbeta1d.rc      8.81028     -1.14615     0.460035\n",
      "   cuspedbeta1d.beta     0.459559   -0.0108013  0.000731775\n",
      "   cuspedbeta1d.alpha     0.102007        -----      1.25196\n",
      "WARNING: Clearing convolved model\n",
      "'usermodel.cuspedbeta1d'\n",
      "for dataset 1\n",
      "Dataset               = 1\n",
      "Method                = levmar\n",
      "Statistic             = chi2\n",
      "Initial fit statistic = 447331\n",
      "Final fit statistic   = 4437.53 at function evaluation 291\n",
      "Data points           = 50\n",
      "Degrees of freedom    = 44\n",
      "Probability [Q-value] = 0\n",
      "Reduced statistic     = 100.853\n",
      "Change in statistic   = 442893\n",
      "   doublebeta1d.ne01   0.027853    \n",
      "   doublebeta1d.rc1   21.5907     \n",
      "   doublebeta1d.beta1   0.465449    \n",
      "   doublebeta1d.ne02   0.000714273 \n",
      "   doublebeta1d.rc2   10.4861     \n",
      "   doublebeta1d.beta2   0.593974    \n",
      "doublebeta1d.rc2 lower bound:\t-----\n",
      "doublebeta1d.ne01 lower bound:\t-----\n",
      "doublebeta1d.beta2 lower bound:\t-----\n",
      "doublebeta1d.beta1 -: WARNING: The confidence level lies within (4.011577e-01, 4.036577e-01)\n",
      "doublebeta1d.beta1 lower bound:\t-0.0630408\n",
      "doublebeta1d.beta2 upper bound:\t-----\n",
      "doublebeta1d.beta1 +: WARNING: The confidence level lies within (9.634999e+00, 9.638353e+00)\n",
      "doublebeta1d.beta1 upper bound:\t9.17123\n",
      "doublebeta1d.ne02 lower bound:\t-----\n",
      "doublebeta1d.rc2 +: WARNING: The confidence level lies within (6.940072e+02, 6.940120e+02)\n",
      "doublebeta1d.rc2 upper bound:\t683.524\n",
      "doublebeta1d.ne01 +: WARNING: The confidence level lies within (2.871748e-02, 2.871663e-02)\n",
      "doublebeta1d.ne01 upper bound:\t0.000864032\n",
      "doublebeta1d.rc1 lower bound:\t-0.400189\n",
      "doublebeta1d.ne02 +: WARNING: The confidence level lies within (2.654883e-03, 2.653748e-03)\n",
      "doublebeta1d.ne02 upper bound:\t0.00194004\n",
      "doublebeta1d.rc1 upper bound:\t-----\n",
      "Dataset               = 1\n",
      "Confidence Method     = confidence\n",
      "Iterative Fit Method  = None\n",
      "Fitting Method        = levmar\n",
      "Statistic             = chi2gehrels\n",
      "confidence 1-sigma (68.2689%) bounds:\n",
      "   Param            Best-Fit  Lower Bound  Upper Bound\n",
      "   -----            --------  -----------  -----------\n",
      "   doublebeta1d.ne01     0.027853        -----  0.000864032\n",
      "   doublebeta1d.rc1      21.5907    -0.400189        -----\n",
      "   doublebeta1d.beta1     0.465449   -0.0630408      9.17123\n",
      "   doublebeta1d.ne02  0.000714273        -----   0.00194004\n",
      "   doublebeta1d.rc2      10.4861        -----      683.524\n",
      "   doublebeta1d.beta2     0.593974        -----        -----\n",
      "WARNING: Clearing convolved model\n",
      "'usermodel.doublebeta1d'\n",
      "for dataset 1\n",
      "Dataset               = 1\n",
      "Method                = levmar\n",
      "Statistic             = chi2\n",
      "Initial fit statistic = 447331\n",
      "Final fit statistic   = 179.824 at function evaluation 745\n",
      "Data points           = 50\n",
      "Degrees of freedom    = 45\n",
      "Probability [Q-value] = 4.99341e-18\n",
      "Reduced statistic     = 3.9961\n",
      "Change in statistic   = 447151\n",
      "   doublebeta1d_tied.ne01   0.986196    \n",
      "   doublebeta1d_tied.rc1   2.77135     \n",
      "   doublebeta1d_tied.beta1   0.614747    \n",
      "   doublebeta1d_tied.ne02   0.00257814  \n",
      "   doublebeta1d_tied.rc2   154.237     \n",
      "doublebeta1d_tied.ne01 lower bound:\t-0.429997\n",
      "doublebeta1d_tied.ne01 upper bound:\t-----\n",
      "doublebeta1d_tied.rc2 lower bound:\t-2.26785\n",
      "doublebeta1d_tied.rc2 upper bound:\t2.26124\n",
      "doublebeta1d_tied.rc1 lower bound:\t-0.0316762\n",
      "doublebeta1d_tied.rc1 upper bound:\t1.02732\n",
      "doublebeta1d_tied.beta1 lower bound:\t-0.003434\n",
      "doublebeta1d_tied.beta1 upper bound:\t0.00346104\n",
      "doublebeta1d_tied.ne02 lower bound:\t-3.44852e-05\n",
      "doublebeta1d_tied.ne02 upper bound:\t3.53144e-05\n",
      "Dataset               = 1\n",
      "Confidence Method     = confidence\n",
      "Iterative Fit Method  = None\n",
      "Fitting Method        = levmar\n",
      "Statistic             = chi2gehrels\n",
      "confidence 1-sigma (68.2689%) bounds:\n",
      "   Param            Best-Fit  Lower Bound  Upper Bound\n",
      "   -----            --------  -----------  -----------\n",
      "   doublebeta1d_tied.ne01     0.986196    -0.429997        -----\n",
      "   doublebeta1d_tied.rc1      2.77135   -0.0316762      1.02732\n",
      "   doublebeta1d_tied.beta1     0.614747    -0.003434   0.00346104\n",
      "   doublebeta1d_tied.ne02   0.00257814 -3.44852e-05  3.53144e-05\n",
      "   doublebeta1d_tied.rc2      154.237     -2.26785      2.26124\n"
     ]
    }
   ],
   "source": [
    "nemodeltype=find_nemodeltype(ne_data=ne_data, tspec_data=tspec_data)"
   ]
  },
  {
   "cell_type": "code",
   "execution_count": 23,
   "metadata": {},
   "outputs": [
    {
     "name": "stdout",
     "output_type": "stream",
     "text": [
      "double_beta_tied\n"
     ]
    }
   ],
   "source": [
    "#best fitting model result:\n",
    "print nemodeltype"
   ]
  },
  {
   "cell_type": "code",
   "execution_count": 24,
   "metadata": {},
   "outputs": [
    {
     "name": "stdout",
     "output_type": "stream",
     "text": [
      "WARNING: Clearing convolved model\n",
      "'usermodel.doublebeta1d_tied'\n",
      "for dataset 1\n",
      "Dataset               = 1\n",
      "Method                = levmar\n",
      "Statistic             = chi2\n",
      "Initial fit statistic = 447331\n",
      "Final fit statistic   = 179.824 at function evaluation 745\n",
      "Data points           = 50\n",
      "Degrees of freedom    = 45\n",
      "Probability [Q-value] = 4.99341e-18\n",
      "Reduced statistic     = 3.9961\n",
      "Change in statistic   = 447151\n",
      "   doublebeta1d_tied.ne01   0.986196    \n",
      "   doublebeta1d_tied.rc1   2.77135     \n",
      "   doublebeta1d_tied.beta1   0.614747    \n",
      "   doublebeta1d_tied.ne02   0.00257814  \n",
      "   doublebeta1d_tied.rc2   154.237     \n",
      "doublebeta1d_tied.ne01 lower bound:\t-0.429997\n",
      "doublebeta1d_tied.ne01 upper bound:\t-----\n",
      "doublebeta1d_tied.rc2 lower bound:\t-2.26785\n",
      "doublebeta1d_tied.rc2 upper bound:\t2.26124\n",
      "doublebeta1d_tied.rc1 lower bound:\t-0.0316762\n",
      "doublebeta1d_tied.rc1 upper bound:\t1.02732\n",
      "doublebeta1d_tied.beta1 lower bound:\t-0.003434\n",
      "doublebeta1d_tied.beta1 upper bound:\t0.00346104\n",
      "doublebeta1d_tied.ne02 lower bound:\t-3.44852e-05\n",
      "doublebeta1d_tied.ne02 upper bound:\t3.53144e-05\n",
      "Dataset               = 1\n",
      "Confidence Method     = confidence\n",
      "Iterative Fit Method  = None\n",
      "Fitting Method        = levmar\n",
      "Statistic             = chi2gehrels\n",
      "confidence 1-sigma (68.2689%) bounds:\n",
      "   Param            Best-Fit  Lower Bound  Upper Bound\n",
      "   -----            --------  -----------  -----------\n",
      "   doublebeta1d_tied.ne01     0.986196    -0.429997        -----\n",
      "   doublebeta1d_tied.rc1      2.77135   -0.0316762      1.02732\n",
      "   doublebeta1d_tied.beta1     0.614747    -0.003434   0.00346104\n",
      "   doublebeta1d_tied.ne02   0.00257814 -3.44852e-05  3.53144e-05\n",
      "   doublebeta1d_tied.rc2      154.237     -2.26785      2.26124\n"
     ]
    }
   ],
   "source": [
    "#Find the parameters and param errors of the best-fitting gas density model\n",
    "nemodel=fitne(ne_data=ne_data,tspec_data=tspec_data,nemodeltype=str(nemodeltype)) #[cm^-3]"
   ]
  },
  {
   "cell_type": "code",
   "execution_count": 25,
   "metadata": {},
   "outputs": [
    {
     "name": "stdout",
     "output_type": "stream",
     "text": [
      "['parmins', 'nefit', 'dof', 'parmaxes', 'rchisq', 'chisq', 'parvals', 'parnames', 'type']\n"
     ]
    }
   ],
   "source": [
    "#nemodel stores all the useful information from the fit to the gas denisty profile\n",
    "print nemodel.keys()"
   ]
  },
  {
   "cell_type": "markdown",
   "metadata": {},
   "source": [
    "# 3. Maximum likelihood estimation of free params in mass profile model"
   ]
  },
  {
   "cell_type": "markdown",
   "metadata": {},
   "source": [
    "Perform the backwards-fit of the mass model. The free parameters in the fit are:\n",
    "- the mass concentration \"c\" of the NFW profile used to model the DM halo, \n",
    "- the scale radius \"Rs\" of the NFW profile\n",
    "- optionally, the normalization of the Sersic model $\\rho_{\\star,0}$ used to model the stellar mass profile of the central galaxy"
   ]
  },
  {
   "cell_type": "code",
   "execution_count": 26,
   "metadata": {},
   "outputs": [
    {
     "name": "stdout",
     "output_type": "stream",
     "text": [
      "scipy.optimize results\n",
      "ML: c= 2.4846889455974868\n",
      "ML: rs= 403.1940588304338\n",
      "ML: normsersic= 6.824269206898088\n"
     ]
    }
   ],
   "source": [
    "ml_results=fit_ml(ne_data,tspec_data,nemodel,clustermeta)"
   ]
  },
  {
   "cell_type": "markdown",
   "metadata": {},
   "source": [
    "these maximum likelihood results are now going to be used to initialize the walkers in our Markov chain..."
   ]
  },
  {
   "cell_type": "markdown",
   "metadata": {},
   "source": [
    "# 4. Use the MCMC algorithm to determine the best fitting values and errors of the mass profile model "
   ]
  },
  {
   "cell_type": "markdown",
   "metadata": {},
   "source": [
    "The backwards-fitting mass modelling process is performed using the MCMC algorithm emcee. The walkers of the ensemble are started from the parameter estimation output by the maximum likelihood analysis. Note the number of cores the MCMC analysis is run on is an option here. \n",
    "\n",
    "**warning: default Nwalkers, Nsteps, Nburnin are small numbers to allow for fast testing\n",
    "\n",
    "Returns:  \n",
    "samples - the marginalized posterior distribution  \n",
    "sampler - the sampler class output by emcee  "
   ]
  },
  {
   "cell_type": "code",
   "execution_count": 14,
   "metadata": {},
   "outputs": [
    {
     "name": "stdout",
     "output_type": "stream",
     "text": [
      "9.354170073102437e-05\n",
      "9.966820344504085e-05\n",
      "9.452310626100957e-05\n",
      "acceptance rate of walkers:\n",
      "[0.76666667 0.53333333 0.83333333 0.76666667 0.83333333 0.8\n",
      " 0.8        0.83333333 0.7        0.76666667 0.8        0.7\n",
      " 0.76666667 0.7        0.8        0.7        0.76666667 0.63333333\n",
      " 0.66666667 0.73333333 0.7        0.83333333 0.83333333 0.6\n",
      " 0.76666667 0.8        0.9        0.73333333 0.8        0.8       ]\n",
      "\n",
      "autocorrelation time:"
     ]
    },
    {
     "ename": "AutocorrError",
     "evalue": "The chain is too short",
     "output_type": "error",
     "traceback": [
      "\u001b[0;31m---------------------------------------------------------------------------\u001b[0m",
      "\u001b[0;31mAutocorrError\u001b[0m                             Traceback (most recent call last)",
      "\u001b[0;32m<ipython-input-14-5ae246a7e3cf>\u001b[0m in \u001b[0;36m<module>\u001b[0;34m()\u001b[0m\n\u001b[1;32m      8\u001b[0m                             \u001b[0mNwalkers\u001b[0m\u001b[0;34m=\u001b[0m\u001b[0mparams\u001b[0m\u001b[0;34m.\u001b[0m\u001b[0mNwalkers\u001b[0m\u001b[0;34m,\u001b[0m\u001b[0;34m\u001b[0m\u001b[0m\n\u001b[1;32m      9\u001b[0m                             \u001b[0mNsteps\u001b[0m\u001b[0;34m=\u001b[0m\u001b[0mparams\u001b[0m\u001b[0;34m.\u001b[0m\u001b[0mNsteps\u001b[0m\u001b[0;34m,\u001b[0m\u001b[0;34m\u001b[0m\u001b[0m\n\u001b[0;32m---> 10\u001b[0;31m                             Nburnin=params.Nburnin)\n\u001b[0m",
      "\u001b[0;32m/Users/alishakundert/astro/SPRING2018/github/massmod/massmod/fit_temperature.py\u001b[0m in \u001b[0;36mfit_mcmc\u001b[0;34m(ne_data, tspec_data, nemodel, ml_results, clustermeta, Ncores, Nwalkers, Nsteps, Nburnin)\u001b[0m\n\u001b[1;32m    402\u001b[0m     \u001b[0;31m#check autocorrelation time\u001b[0m\u001b[0;34m\u001b[0m\u001b[0;34m\u001b[0m\u001b[0m\n\u001b[1;32m    403\u001b[0m     \u001b[0;32mtry\u001b[0m\u001b[0;34m:\u001b[0m\u001b[0;34m\u001b[0m\u001b[0m\n\u001b[0;32m--> 404\u001b[0;31m         \u001b[0;32mprint\u001b[0m \u001b[0;34m'autocorrelation time:'\u001b[0m\u001b[0;34m,\u001b[0m\u001b[0msampler\u001b[0m\u001b[0;34m.\u001b[0m\u001b[0macor\u001b[0m\u001b[0;34m\u001b[0m\u001b[0m\n\u001b[0m\u001b[1;32m    405\u001b[0m     \u001b[0;32mexcept\u001b[0m \u001b[0mRuntimeError\u001b[0m\u001b[0;34m:\u001b[0m\u001b[0;34m\u001b[0m\u001b[0m\n\u001b[1;32m    406\u001b[0m         \u001b[0;32mprint\u001b[0m \u001b[0;34m'autocorrelation time is too long'\u001b[0m\u001b[0;34m\u001b[0m\u001b[0m\n",
      "\u001b[0;32m/anaconda2/lib/python2.7/site-packages/emcee/ensemble.pyc\u001b[0m in \u001b[0;36macor\u001b[0;34m(self)\u001b[0m\n\u001b[1;32m    474\u001b[0m \u001b[0;34m\u001b[0m\u001b[0m\n\u001b[1;32m    475\u001b[0m         \"\"\"\n\u001b[0;32m--> 476\u001b[0;31m         \u001b[0;32mreturn\u001b[0m \u001b[0mself\u001b[0m\u001b[0;34m.\u001b[0m\u001b[0mget_autocorr_time\u001b[0m\u001b[0;34m(\u001b[0m\u001b[0;34m)\u001b[0m\u001b[0;34m\u001b[0m\u001b[0m\n\u001b[0m\u001b[1;32m    477\u001b[0m \u001b[0;34m\u001b[0m\u001b[0m\n\u001b[1;32m    478\u001b[0m     \u001b[0;32mdef\u001b[0m \u001b[0mget_autocorr_time\u001b[0m\u001b[0;34m(\u001b[0m\u001b[0mself\u001b[0m\u001b[0;34m,\u001b[0m \u001b[0mlow\u001b[0m\u001b[0;34m=\u001b[0m\u001b[0;36m10\u001b[0m\u001b[0;34m,\u001b[0m \u001b[0mhigh\u001b[0m\u001b[0;34m=\u001b[0m\u001b[0mNone\u001b[0m\u001b[0;34m,\u001b[0m \u001b[0mstep\u001b[0m\u001b[0;34m=\u001b[0m\u001b[0;36m1\u001b[0m\u001b[0;34m,\u001b[0m \u001b[0mc\u001b[0m\u001b[0;34m=\u001b[0m\u001b[0;36m10\u001b[0m\u001b[0;34m,\u001b[0m \u001b[0mfast\u001b[0m\u001b[0;34m=\u001b[0m\u001b[0mFalse\u001b[0m\u001b[0;34m)\u001b[0m\u001b[0;34m:\u001b[0m\u001b[0;34m\u001b[0m\u001b[0m\n",
      "\u001b[0;32m/anaconda2/lib/python2.7/site-packages/emcee/ensemble.pyc\u001b[0m in \u001b[0;36mget_autocorr_time\u001b[0;34m(self, low, high, step, c, fast)\u001b[0m\n\u001b[1;32m    501\u001b[0m         return autocorr.integrated_time(np.mean(self.chain, axis=0), axis=0,\n\u001b[1;32m    502\u001b[0m                                         \u001b[0mlow\u001b[0m\u001b[0;34m=\u001b[0m\u001b[0mlow\u001b[0m\u001b[0;34m,\u001b[0m \u001b[0mhigh\u001b[0m\u001b[0;34m=\u001b[0m\u001b[0mhigh\u001b[0m\u001b[0;34m,\u001b[0m \u001b[0mstep\u001b[0m\u001b[0;34m=\u001b[0m\u001b[0mstep\u001b[0m\u001b[0;34m,\u001b[0m \u001b[0mc\u001b[0m\u001b[0;34m=\u001b[0m\u001b[0mc\u001b[0m\u001b[0;34m,\u001b[0m\u001b[0;34m\u001b[0m\u001b[0m\n\u001b[0;32m--> 503\u001b[0;31m                                         fast=fast)\n\u001b[0m\u001b[1;32m    504\u001b[0m \u001b[0;34m\u001b[0m\u001b[0m\n\u001b[1;32m    505\u001b[0m \u001b[0;34m\u001b[0m\u001b[0m\n",
      "\u001b[0;32m/anaconda2/lib/python2.7/site-packages/emcee/autocorr.pyc\u001b[0m in \u001b[0;36mintegrated_time\u001b[0;34m(x, low, high, step, c, full_output, axis, fast)\u001b[0m\n\u001b[1;32m     83\u001b[0m     \u001b[0msize\u001b[0m \u001b[0;34m=\u001b[0m \u001b[0;36m0.5\u001b[0m \u001b[0;34m*\u001b[0m \u001b[0mx\u001b[0m\u001b[0;34m.\u001b[0m\u001b[0mshape\u001b[0m\u001b[0;34m[\u001b[0m\u001b[0maxis\u001b[0m\u001b[0;34m]\u001b[0m\u001b[0;34m\u001b[0m\u001b[0m\n\u001b[1;32m     84\u001b[0m     \u001b[0;32mif\u001b[0m \u001b[0mint\u001b[0m\u001b[0;34m(\u001b[0m\u001b[0mc\u001b[0m \u001b[0;34m*\u001b[0m \u001b[0mlow\u001b[0m\u001b[0;34m)\u001b[0m \u001b[0;34m>=\u001b[0m \u001b[0msize\u001b[0m\u001b[0;34m:\u001b[0m\u001b[0;34m\u001b[0m\u001b[0m\n\u001b[0;32m---> 85\u001b[0;31m         \u001b[0;32mraise\u001b[0m \u001b[0mAutocorrError\u001b[0m\u001b[0;34m(\u001b[0m\u001b[0;34m\"The chain is too short\"\u001b[0m\u001b[0;34m)\u001b[0m\u001b[0;34m\u001b[0m\u001b[0m\n\u001b[0m\u001b[1;32m     86\u001b[0m \u001b[0;34m\u001b[0m\u001b[0m\n\u001b[1;32m     87\u001b[0m     \u001b[0;31m# Compute the autocorrelation function.\u001b[0m\u001b[0;34m\u001b[0m\u001b[0;34m\u001b[0m\u001b[0m\n",
      "\u001b[0;31mAutocorrError\u001b[0m: The chain is too short"
     ]
    }
   ],
   "source": [
    "#fit for the mass model and temperature profile model through MCMC\n",
    "samples, sampler = fit_mcmc(ne_data=ne_data, \n",
    "                            tspec_data=tspec_data, \n",
    "                            nemodel=nemodel, \n",
    "                            ml_results=ml_results, \n",
    "                            clustermeta=clustermeta,\n",
    "                            Ncores=params.Ncores,\n",
    "                            Nwalkers=params.Nwalkers,\n",
    "                            Nsteps=params.Nsteps,\n",
    "                            Nburnin=params.Nburnin)"
   ]
  },
  {
   "cell_type": "code",
   "execution_count": 17,
   "metadata": {},
   "outputs": [
    {
     "ename": "NameError",
     "evalue": "name 'sampler' is not defined",
     "output_type": "error",
     "traceback": [
      "\u001b[0;31m---------------------------------------------------------------------------\u001b[0m",
      "\u001b[0;31mNameError\u001b[0m                                 Traceback (most recent call last)",
      "\u001b[0;32m<ipython-input-17-e6c21e936cb0>\u001b[0m in \u001b[0;36m<module>\u001b[0;34m()\u001b[0m\n\u001b[0;32m----> 1\u001b[0;31m \u001b[0;32mprint\u001b[0m \u001b[0msampler\u001b[0m\u001b[0;34m\u001b[0m\u001b[0m\n\u001b[0m",
      "\u001b[0;31mNameError\u001b[0m: name 'sampler' is not defined"
     ]
    }
   ],
   "source": [
    "print sampler"
   ]
  },
  {
   "cell_type": "code",
   "execution_count": 15,
   "metadata": {},
   "outputs": [
    {
     "ename": "NameError",
     "evalue": "name 'samples' is not defined",
     "output_type": "error",
     "traceback": [
      "\u001b[0;31m---------------------------------------------------------------------------\u001b[0m",
      "\u001b[0;31mNameError\u001b[0m                                 Traceback (most recent call last)",
      "\u001b[0;32m<ipython-input-15-91e699b5d2d8>\u001b[0m in \u001b[0;36m<module>\u001b[0;34m()\u001b[0m\n\u001b[1;32m      1\u001b[0m \u001b[0;31m#analyze the marginalized MCMC distribution to calculate Rdelta, Mdelta\u001b[0m\u001b[0;34m\u001b[0m\u001b[0;34m\u001b[0m\u001b[0m\n\u001b[0;32m----> 2\u001b[0;31m samples_aux = calc_posterior_mcmc(samples=samples, \n\u001b[0m\u001b[1;32m      3\u001b[0m                                   \u001b[0mnemodel\u001b[0m\u001b[0;34m=\u001b[0m\u001b[0mnemodel\u001b[0m\u001b[0;34m,\u001b[0m\u001b[0;34m\u001b[0m\u001b[0m\n\u001b[1;32m      4\u001b[0m                                   clustermeta=clustermeta)\n",
      "\u001b[0;31mNameError\u001b[0m: name 'samples' is not defined"
     ]
    }
   ],
   "source": [
    "#analyze the marginalized MCMC distribution to calculate Rdelta, Mdelta\n",
    "samples_aux = calc_posterior_mcmc(samples=samples, \n",
    "                                  nemodel=nemodel, \n",
    "                                  clustermeta=clustermeta)"
   ]
  },
  {
   "cell_type": "code",
   "execution_count": null,
   "metadata": {},
   "outputs": [],
   "source": []
  }
 ],
 "metadata": {
  "kernelspec": {
   "display_name": "Python 2",
   "language": "python",
   "name": "python2"
  },
  "language_info": {
   "codemirror_mode": {
    "name": "ipython",
    "version": 2
   },
   "file_extension": ".py",
   "mimetype": "text/x-python",
   "name": "python",
   "nbconvert_exporter": "python",
   "pygments_lexer": "ipython2",
   "version": "2.7.14"
  }
 },
 "nbformat": 4,
 "nbformat_minor": 2
}
